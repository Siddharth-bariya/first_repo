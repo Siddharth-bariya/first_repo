{
  "nbformat": 4,
  "nbformat_minor": 0,
  "metadata": {
    "colab": {
      "provenance": [],
      "authorship_tag": "ABX9TyNzi/0QQE28y232YpBJpQgY",
      "include_colab_link": true
    },
    "kernelspec": {
      "name": "python3",
      "display_name": "Python 3"
    },
    "language_info": {
      "name": "python"
    },
    "widgets": {
      "application/vnd.jupyter.widget-state+json": {
        "66173dad4d824dd38d7c661e4fa9188f": {
          "model_module": "@jupyter-widgets/controls",
          "model_name": "HBoxModel",
          "model_module_version": "1.5.0",
          "state": {
            "_dom_classes": [],
            "_model_module": "@jupyter-widgets/controls",
            "_model_module_version": "1.5.0",
            "_model_name": "HBoxModel",
            "_view_count": null,
            "_view_module": "@jupyter-widgets/controls",
            "_view_module_version": "1.5.0",
            "_view_name": "HBoxView",
            "box_style": "",
            "children": [
              "IPY_MODEL_e83298f075e34cff842eb8ff53df08b1",
              "IPY_MODEL_1d09d8568d5545918fab66f74582521d",
              "IPY_MODEL_ff7cc8f1ed0647df82d8df4a93cac607"
            ],
            "layout": "IPY_MODEL_30070ee4f5fe4136bd981a7f6cac7949"
          }
        },
        "e83298f075e34cff842eb8ff53df08b1": {
          "model_module": "@jupyter-widgets/controls",
          "model_name": "HTMLModel",
          "model_module_version": "1.5.0",
          "state": {
            "_dom_classes": [],
            "_model_module": "@jupyter-widgets/controls",
            "_model_module_version": "1.5.0",
            "_model_name": "HTMLModel",
            "_view_count": null,
            "_view_module": "@jupyter-widgets/controls",
            "_view_module_version": "1.5.0",
            "_view_name": "HTMLView",
            "description": "",
            "description_tooltip": null,
            "layout": "IPY_MODEL_96d4ae30130f4a46945e72f7f48f7163",
            "placeholder": "​",
            "style": "IPY_MODEL_6eecafca44444ef2a6c2d35ffb45f062",
            "value": "  0%"
          }
        },
        "1d09d8568d5545918fab66f74582521d": {
          "model_module": "@jupyter-widgets/controls",
          "model_name": "FloatProgressModel",
          "model_module_version": "1.5.0",
          "state": {
            "_dom_classes": [],
            "_model_module": "@jupyter-widgets/controls",
            "_model_module_version": "1.5.0",
            "_model_name": "FloatProgressModel",
            "_view_count": null,
            "_view_module": "@jupyter-widgets/controls",
            "_view_module_version": "1.5.0",
            "_view_name": "ProgressView",
            "bar_style": "danger",
            "description": "",
            "description_tooltip": null,
            "layout": "IPY_MODEL_538d688942b54c3686a2d9bd06ae4aae",
            "max": 1000000,
            "min": 0,
            "orientation": "horizontal",
            "style": "IPY_MODEL_665bc07297b74fdb8f7f64c5b0dbf7a7",
            "value": 23
          }
        },
        "ff7cc8f1ed0647df82d8df4a93cac607": {
          "model_module": "@jupyter-widgets/controls",
          "model_name": "HTMLModel",
          "model_module_version": "1.5.0",
          "state": {
            "_dom_classes": [],
            "_model_module": "@jupyter-widgets/controls",
            "_model_module_version": "1.5.0",
            "_model_name": "HTMLModel",
            "_view_count": null,
            "_view_module": "@jupyter-widgets/controls",
            "_view_module_version": "1.5.0",
            "_view_name": "HTMLView",
            "description": "",
            "description_tooltip": null,
            "layout": "IPY_MODEL_160ca23ec5a44f62a7f134c58f4c7a26",
            "placeholder": "​",
            "style": "IPY_MODEL_e907bc06599e41099f62ae475d629872",
            "value": " 23/1000000 [00:01&lt;12:10:19, 22.82it/s]"
          }
        },
        "30070ee4f5fe4136bd981a7f6cac7949": {
          "model_module": "@jupyter-widgets/base",
          "model_name": "LayoutModel",
          "model_module_version": "1.2.0",
          "state": {
            "_model_module": "@jupyter-widgets/base",
            "_model_module_version": "1.2.0",
            "_model_name": "LayoutModel",
            "_view_count": null,
            "_view_module": "@jupyter-widgets/base",
            "_view_module_version": "1.2.0",
            "_view_name": "LayoutView",
            "align_content": null,
            "align_items": null,
            "align_self": null,
            "border": null,
            "bottom": null,
            "display": null,
            "flex": null,
            "flex_flow": null,
            "grid_area": null,
            "grid_auto_columns": null,
            "grid_auto_flow": null,
            "grid_auto_rows": null,
            "grid_column": null,
            "grid_gap": null,
            "grid_row": null,
            "grid_template_areas": null,
            "grid_template_columns": null,
            "grid_template_rows": null,
            "height": null,
            "justify_content": null,
            "justify_items": null,
            "left": null,
            "margin": null,
            "max_height": null,
            "max_width": null,
            "min_height": null,
            "min_width": null,
            "object_fit": null,
            "object_position": null,
            "order": null,
            "overflow": null,
            "overflow_x": null,
            "overflow_y": null,
            "padding": null,
            "right": null,
            "top": null,
            "visibility": null,
            "width": null
          }
        },
        "96d4ae30130f4a46945e72f7f48f7163": {
          "model_module": "@jupyter-widgets/base",
          "model_name": "LayoutModel",
          "model_module_version": "1.2.0",
          "state": {
            "_model_module": "@jupyter-widgets/base",
            "_model_module_version": "1.2.0",
            "_model_name": "LayoutModel",
            "_view_count": null,
            "_view_module": "@jupyter-widgets/base",
            "_view_module_version": "1.2.0",
            "_view_name": "LayoutView",
            "align_content": null,
            "align_items": null,
            "align_self": null,
            "border": null,
            "bottom": null,
            "display": null,
            "flex": null,
            "flex_flow": null,
            "grid_area": null,
            "grid_auto_columns": null,
            "grid_auto_flow": null,
            "grid_auto_rows": null,
            "grid_column": null,
            "grid_gap": null,
            "grid_row": null,
            "grid_template_areas": null,
            "grid_template_columns": null,
            "grid_template_rows": null,
            "height": null,
            "justify_content": null,
            "justify_items": null,
            "left": null,
            "margin": null,
            "max_height": null,
            "max_width": null,
            "min_height": null,
            "min_width": null,
            "object_fit": null,
            "object_position": null,
            "order": null,
            "overflow": null,
            "overflow_x": null,
            "overflow_y": null,
            "padding": null,
            "right": null,
            "top": null,
            "visibility": null,
            "width": null
          }
        },
        "6eecafca44444ef2a6c2d35ffb45f062": {
          "model_module": "@jupyter-widgets/controls",
          "model_name": "DescriptionStyleModel",
          "model_module_version": "1.5.0",
          "state": {
            "_model_module": "@jupyter-widgets/controls",
            "_model_module_version": "1.5.0",
            "_model_name": "DescriptionStyleModel",
            "_view_count": null,
            "_view_module": "@jupyter-widgets/base",
            "_view_module_version": "1.2.0",
            "_view_name": "StyleView",
            "description_width": ""
          }
        },
        "538d688942b54c3686a2d9bd06ae4aae": {
          "model_module": "@jupyter-widgets/base",
          "model_name": "LayoutModel",
          "model_module_version": "1.2.0",
          "state": {
            "_model_module": "@jupyter-widgets/base",
            "_model_module_version": "1.2.0",
            "_model_name": "LayoutModel",
            "_view_count": null,
            "_view_module": "@jupyter-widgets/base",
            "_view_module_version": "1.2.0",
            "_view_name": "LayoutView",
            "align_content": null,
            "align_items": null,
            "align_self": null,
            "border": null,
            "bottom": null,
            "display": null,
            "flex": null,
            "flex_flow": null,
            "grid_area": null,
            "grid_auto_columns": null,
            "grid_auto_flow": null,
            "grid_auto_rows": null,
            "grid_column": null,
            "grid_gap": null,
            "grid_row": null,
            "grid_template_areas": null,
            "grid_template_columns": null,
            "grid_template_rows": null,
            "height": null,
            "justify_content": null,
            "justify_items": null,
            "left": null,
            "margin": null,
            "max_height": null,
            "max_width": null,
            "min_height": null,
            "min_width": null,
            "object_fit": null,
            "object_position": null,
            "order": null,
            "overflow": null,
            "overflow_x": null,
            "overflow_y": null,
            "padding": null,
            "right": null,
            "top": null,
            "visibility": null,
            "width": null
          }
        },
        "665bc07297b74fdb8f7f64c5b0dbf7a7": {
          "model_module": "@jupyter-widgets/controls",
          "model_name": "ProgressStyleModel",
          "model_module_version": "1.5.0",
          "state": {
            "_model_module": "@jupyter-widgets/controls",
            "_model_module_version": "1.5.0",
            "_model_name": "ProgressStyleModel",
            "_view_count": null,
            "_view_module": "@jupyter-widgets/base",
            "_view_module_version": "1.2.0",
            "_view_name": "StyleView",
            "bar_color": null,
            "description_width": ""
          }
        },
        "160ca23ec5a44f62a7f134c58f4c7a26": {
          "model_module": "@jupyter-widgets/base",
          "model_name": "LayoutModel",
          "model_module_version": "1.2.0",
          "state": {
            "_model_module": "@jupyter-widgets/base",
            "_model_module_version": "1.2.0",
            "_model_name": "LayoutModel",
            "_view_count": null,
            "_view_module": "@jupyter-widgets/base",
            "_view_module_version": "1.2.0",
            "_view_name": "LayoutView",
            "align_content": null,
            "align_items": null,
            "align_self": null,
            "border": null,
            "bottom": null,
            "display": null,
            "flex": null,
            "flex_flow": null,
            "grid_area": null,
            "grid_auto_columns": null,
            "grid_auto_flow": null,
            "grid_auto_rows": null,
            "grid_column": null,
            "grid_gap": null,
            "grid_row": null,
            "grid_template_areas": null,
            "grid_template_columns": null,
            "grid_template_rows": null,
            "height": null,
            "justify_content": null,
            "justify_items": null,
            "left": null,
            "margin": null,
            "max_height": null,
            "max_width": null,
            "min_height": null,
            "min_width": null,
            "object_fit": null,
            "object_position": null,
            "order": null,
            "overflow": null,
            "overflow_x": null,
            "overflow_y": null,
            "padding": null,
            "right": null,
            "top": null,
            "visibility": null,
            "width": null
          }
        },
        "e907bc06599e41099f62ae475d629872": {
          "model_module": "@jupyter-widgets/controls",
          "model_name": "DescriptionStyleModel",
          "model_module_version": "1.5.0",
          "state": {
            "_model_module": "@jupyter-widgets/controls",
            "_model_module_version": "1.5.0",
            "_model_name": "DescriptionStyleModel",
            "_view_count": null,
            "_view_module": "@jupyter-widgets/base",
            "_view_module_version": "1.2.0",
            "_view_name": "StyleView",
            "description_width": ""
          }
        }
      }
    }
  },
  "cells": [
    {
      "cell_type": "markdown",
      "metadata": {
        "id": "view-in-github",
        "colab_type": "text"
      },
      "source": [
        "<a href=\"https://colab.research.google.com/github/Siddharth-bariya/first_repo/blob/main/bayessiannetwork.ipynb\" target=\"_parent\"><img src=\"https://colab.research.google.com/assets/colab-badge.svg\" alt=\"Open In Colab\"/></a>"
      ]
    },
    {
      "cell_type": "code",
      "execution_count": 14,
      "metadata": {
        "id": "4xa-ILC5Tmy3"
      },
      "outputs": [],
      "source": [
        "import pandas as pd\n",
        "import numpy as np\n",
        "from pgmpy.models import BayesianNetwork\n",
        "from pgmpy.estimators import MaximumLikelihoodEstimator,BayesianEstimator, HillClimbSearch, BicScore\n",
        "from pgmpy.inference import VariableElimination\n",
        "from sklearn.preprocessing import KBinsDiscretizer"
      ]
    },
    {
      "cell_type": "code",
      "source": [
        "!pip install pandas numpy pgmpy"
      ],
      "metadata": {
        "id": "1dhhz_LKTtFX"
      },
      "execution_count": null,
      "outputs": []
    },
    {
      "cell_type": "code",
      "source": [],
      "metadata": {
        "id": "SBZ0hhKHWXNp"
      },
      "execution_count": null,
      "outputs": []
    },
    {
      "cell_type": "code",
      "source": [
        "df = pd.read_csv(\"heart.csv\")\n",
        "df = df.rename(columns={'target': 'heart_disease'})\n"
      ],
      "metadata": {
        "id": "J-rANN5jUCj6"
      },
      "execution_count": 3,
      "outputs": []
    },
    {
      "cell_type": "code",
      "source": [
        "num_features = ['age', 'trestbps', 'chol', 'thalach', 'oldpeak']\n",
        "discretizer = KBinsDiscretizer(n_bins=4, encode='ordinal', strategy='quantile')\n",
        "df[num_features] = discretizer.fit_transform(df[num_features])"
      ],
      "metadata": {
        "id": "IFaLv2eOUg8b"
      },
      "execution_count": null,
      "outputs": []
    },
    {
      "cell_type": "code",
      "source": [
        "hc = HillClimbSearch(df)\n",
        "best_model = hc.estimate(scoring_method=BicScore(df))"
      ],
      "metadata": {
        "colab": {
          "base_uri": "https://localhost:8080/",
          "height": 49,
          "referenced_widgets": [
            "66173dad4d824dd38d7c661e4fa9188f",
            "e83298f075e34cff842eb8ff53df08b1",
            "1d09d8568d5545918fab66f74582521d",
            "ff7cc8f1ed0647df82d8df4a93cac607",
            "30070ee4f5fe4136bd981a7f6cac7949",
            "96d4ae30130f4a46945e72f7f48f7163",
            "6eecafca44444ef2a6c2d35ffb45f062",
            "538d688942b54c3686a2d9bd06ae4aae",
            "665bc07297b74fdb8f7f64c5b0dbf7a7",
            "160ca23ec5a44f62a7f134c58f4c7a26",
            "e907bc06599e41099f62ae475d629872"
          ]
        },
        "id": "CkjKXcY5Wcha",
        "outputId": "cc9e76e2-1857-4f62-8714-5c0a4c4bb5ff"
      },
      "execution_count": 15,
      "outputs": [
        {
          "output_type": "display_data",
          "data": {
            "text/plain": [
              "  0%|          | 0/1000000 [00:00<?, ?it/s]"
            ],
            "application/vnd.jupyter.widget-view+json": {
              "version_major": 2,
              "version_minor": 0,
              "model_id": "66173dad4d824dd38d7c661e4fa9188f"
            }
          },
          "metadata": {}
        }
      ]
    },
    {
      "cell_type": "code",
      "source": [
        "model = BayesianNetwork([\n",
        "    ('age', 'heart_disease'),\n",
        "    ('sex', 'heart_disease'),\n",
        "    ('chol', 'heart_disease'),\n",
        "    ('trestbps', 'heart_disease'),\n",
        "    ('thalach', 'heart_disease'),\n",
        "    ('oldpeak', 'heart_disease'),\n",
        "    ('exang', 'heart_disease'),\n",
        "    ('cp', 'heart_disease')\n",
        "])"
      ],
      "metadata": {
        "id": "ZDI75FPXUmnB"
      },
      "execution_count": 5,
      "outputs": []
    },
    {
      "cell_type": "code",
      "source": [],
      "metadata": {
        "id": "q69PuS1dWi-H"
      },
      "execution_count": 16,
      "outputs": []
    },
    {
      "cell_type": "code",
      "source": [],
      "metadata": {
        "id": "9OYnFWsdWnHv"
      },
      "execution_count": null,
      "outputs": []
    },
    {
      "cell_type": "code",
      "source": [
        "model.fit(df, estimator=MaximumLikelihoodEstimator)\n"
      ],
      "metadata": {
        "id": "FrIFjwwkUoY3"
      },
      "execution_count": 6,
      "outputs": []
    },
    {
      "cell_type": "code",
      "source": [
        "inference = VariableElimination(model)\n"
      ],
      "metadata": {
        "id": "W6KmtKawVHrD"
      },
      "execution_count": 7,
      "outputs": []
    },
    {
      "cell_type": "code",
      "source": [
        "query_result = inference.query(variables=['heart_disease'], evidence={'chol': 3, 'trestbps': 3})\n",
        "print(query_result)"
      ],
      "metadata": {
        "colab": {
          "base_uri": "https://localhost:8080/"
        },
        "id": "_k1_7ZVPVLh4",
        "outputId": "a67bc764-e50e-4915-ac70-4878914146e1"
      },
      "execution_count": 8,
      "outputs": [
        {
          "output_type": "stream",
          "name": "stdout",
          "text": [
            "+------------------+----------------------+\n",
            "| heart_disease    |   phi(heart_disease) |\n",
            "+==================+======================+\n",
            "| heart_disease(0) |               0.5000 |\n",
            "+------------------+----------------------+\n",
            "| heart_disease(1) |               0.5000 |\n",
            "+------------------+----------------------+\n"
          ]
        }
      ]
    },
    {
      "cell_type": "code",
      "source": [
        "model2=BayesianNetwork(best_model.edges())"
      ],
      "metadata": {
        "id": "JNq-c9j-VM2M"
      },
      "execution_count": 17,
      "outputs": []
    },
    {
      "cell_type": "code",
      "source": [
        "model2.fit(df, estimator=BayesianEstimator, prior_type=\"BDeu\")\n"
      ],
      "metadata": {
        "id": "FymRYzwSWrs1"
      },
      "execution_count": 18,
      "outputs": []
    },
    {
      "cell_type": "code",
      "source": [
        "inference = VariableElimination(model2)\n"
      ],
      "metadata": {
        "id": "bUfKCRpIWupM"
      },
      "execution_count": 19,
      "outputs": []
    },
    {
      "cell_type": "code",
      "source": [
        "chol_states = model2.get_cpds('chol').state_names['chol']\n",
        "trestbps_states = model2.get_cpds('trestbps').state_names['trestbps']\n",
        "\n",
        "\n",
        "evidence = {\n",
        "    'chol': chol_states[3] if 3 < len(chol_states) else chol_states[-1],\n",
        "    'trestbps': trestbps_states[3] if 3 < len(trestbps_states) else trestbps_states[-1]\n",
        "}\n",
        "\n",
        "query_result2 = inference.query(variables=['heart_disease'], evidence=evidence)\n",
        "print(query_result2)"
      ],
      "metadata": {
        "colab": {
          "base_uri": "https://localhost:8080/"
        },
        "id": "v1TS3kB3XAX1",
        "outputId": "7599d4bd-dd06-4564-f582-3b004760748e"
      },
      "execution_count": 22,
      "outputs": [
        {
          "output_type": "stream",
          "name": "stdout",
          "text": [
            "+------------------+----------------------+\n",
            "| heart_disease    |   phi(heart_disease) |\n",
            "+==================+======================+\n",
            "| heart_disease(0) |               0.5017 |\n",
            "+------------------+----------------------+\n",
            "| heart_disease(1) |               0.4983 |\n",
            "+------------------+----------------------+\n"
          ]
        }
      ]
    },
    {
      "cell_type": "code",
      "source": [
        "from pgmpy.metrics import log_likelihood_score\n",
        "\n",
        "log_likelihood = log_likelihood_score(model2, df)\n",
        "print(f\"Log-Likelihood Score: {log_likelihood}\")"
      ],
      "metadata": {
        "colab": {
          "base_uri": "https://localhost:8080/"
        },
        "id": "jy6atuHaW_9m",
        "outputId": "7592309d-c892-49e9-9a7d-d22c5fe17e80"
      },
      "execution_count": 25,
      "outputs": [
        {
          "output_type": "stream",
          "name": "stdout",
          "text": [
            "Log-Likelihood Score: -9668.136439158636\n"
          ]
        }
      ]
    },
    {
      "cell_type": "code",
      "source": [],
      "metadata": {
        "id": "PsoSs7ptXdBY"
      },
      "execution_count": null,
      "outputs": []
    }
  ]
}